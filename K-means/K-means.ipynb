{
 "cells": [
  {
   "cell_type": "code",
   "execution_count": null,
   "metadata": {},
   "outputs": [],
   "source": []
  },
  {
   "cell_type": "code",
   "execution_count": null,
   "metadata": {},
   "outputs": [],
   "source": [
    "import numpy as np\n",
    "from numpy.linalg import norm\n",
    "class Kmeans:\n",
    "    '''Implementing Kmeans algorithm.'''\n",
    "      def __init__(self, k , max_iter=100, seed=69):\n",
    "        self.k = k\n",
    "        self.max_iter = max_iter\n",
    "        self.seed = seed\n",
    "    \n",
    "    def initialise_centroids(self , X):\n",
    "        '''\n",
    "        select k random data points as initial indices\n",
    "        \n",
    "        Parameters\n",
    "        ----------\n",
    "        X: numpy array of original data\n",
    "        \n",
    "        '''\n",
    "        \n",
    "        # generate a  random permutation of indices\n",
    "        np.random.RandomState.seed(seed=self.seed)\n",
    "        random_indices = np.random.permutation(X.shape[0])\n",
    "        \n",
    "        #select first k indices from the random permutation\n",
    "        k_indices = random_indices[:self.k]\n",
    "        centroids = X[k_indices]\n",
    "        return centroids\n",
    "        \n",
    "    \n",
    "    def compute_centroids(self, X):\n",
    "        '''\n",
    "         computes average of all data points in cluster and assigns new centroid for each cluster\n",
    "        \n",
    "        Parameters\n",
    "        ----------\n",
    "        X: numpy array of original data\n",
    "        \n",
    "        '''\n",
    "        #initialise centroid matrix\n",
    "        centroids = np.zeros((self.k, X.shape[1]))\n",
    "        \n",
    "        #for each cluster\n",
    "        for i in range(self.k):\n",
    "             #find all points that belong to ith cluster\n",
    "            X_i = X[self.labels == i , :]\n",
    "            \n",
    "            # find their mean\n",
    "            centroids[i] = np.mean(X_i , axis=0)\n",
    "        return centroids\n",
    "    \n",
    "    def compute_distance_from_centroids(self, X): \n",
    "         '''\n",
    "         computes the distance of data from each cluster centre\n",
    "        \n",
    "        Parameters\n",
    "        ----------\n",
    "        X: numpy array of original data\n",
    "        \n",
    "        Returns\n",
    "        --------\n",
    "        distance: array containing squared L2 norm distance of each data point from each cluster\n",
    "            \n",
    "        '''\n",
    "        #initialise distance matrix\n",
    "        distance = np.zeros((X.shape[0], self.k)) \n",
    "        for i in range(self.k):\n",
    "            vector_difference_i = X - self.centroids[i, :] \n",
    "            #row-wise norm to calculate distance for each data point from ith centroid\n",
    "            row_norm = norm(vector_difference_i, axis=1) \n",
    "            distance[:, i] = np.square(row_norm)  \n",
    "        return distance\n",
    "    \n",
    "   \n",
    "    def find_closest_cluster(self, distance):\n",
    "         '''\n",
    "         assign each data point to closest cluster.\n",
    "        \n",
    "        Parameters\n",
    "        ----------\n",
    "        distance: array containing squared L2 norm distance of each data point from each cluster\n",
    "        \n",
    "        Returns\n",
    "        --------\n",
    "        closest_cluster_labels: index of the cluster which minmises the distance of data to each cluster\n",
    "            \n",
    "        '''\n",
    "        closest_cluster_labels = np.argmin(distance, axis=1) #return the closest cluster number for each row (each data point)\n",
    "        return closest_cluster_labels\n",
    "        \n",
    "    def compute_sse(self, X, labels, centroids):\n",
    "        distance = np.zeros(X.shape[0])\n",
    "        for k in range(self.n_clusters):\n",
    "            distance[labels == k] = norm(X[labels == k] - centroids[k], axis=1)\n",
    "        return np.sum(np.square(distance))\n",
    "    \n",
    "    def fit(self, X):\n",
    "        #initialise centroids\n",
    "        self.centroids = self.initialise_centroids(X)\n",
    "        \n",
    "        \n",
    "        for i in range(self.max_iter):\n",
    "            \n",
    "            centroids_old = self.centroids\n",
    "            \n",
    "            #compute distance of all data points from centroids\n",
    "            distance = self.compute_distance_from_centroids(X)\n",
    "            \n",
    "            #assign labels - find closest cluster for each data point\n",
    "            self.cluster_labels = self.find_closest_cluster(distance)\n",
    "            \n",
    "            #recompute centroids\n",
    "            self.centroids = self.compute_centroids(X)\n",
    "            \n",
    "            #stop if the centroids don't change for consecutive iterations\n",
    "            if np.all(centroids_old, self.centroids):\n",
    "                break\n",
    "        \n",
    "        #compute final error\n",
    "        self.error = self.compute_sse(X)\n",
    "    \n",
    "   \n",
    "    \n",
    "    \n",
    "       \n",
    "        "
   ]
  },
  {
   "cell_type": "code",
   "execution_count": 7,
   "metadata": {},
   "outputs": [
    {
     "data": {
      "text/plain": [
       "array([1, 2, 0])"
      ]
     },
     "execution_count": 7,
     "metadata": {},
     "output_type": "execute_result"
    }
   ],
   "source": []
  },
  {
   "cell_type": "code",
   "execution_count": null,
   "metadata": {},
   "outputs": [],
   "source": [
    "\n",
    "           \n",
    "        \n"
   ]
  },
  {
   "cell_type": "code",
   "execution_count": 36,
   "metadata": {},
   "outputs": [
    {
     "data": {
      "text/plain": [
       "array([ 50., 149.])"
      ]
     },
     "execution_count": 36,
     "metadata": {},
     "output_type": "execute_result"
    }
   ],
   "source": [
    "import numpy as np\n",
    "X=np.array([[4,3,5],[8,6,7]])\n",
    "np.square(np.linalg.norm(X,axis=1))"
   ]
  },
  {
   "cell_type": "code",
   "execution_count": 39,
   "metadata": {},
   "outputs": [
    {
     "data": {
      "text/plain": [
       "array([[3, 1, 1],\n",
       "       [7, 4, 3]])"
      ]
     },
     "execution_count": 39,
     "metadata": {},
     "output_type": "execute_result"
    }
   ],
   "source": [
    "X- np.array([1,2,4])"
   ]
  },
  {
   "cell_type": "code",
   "execution_count": 40,
   "metadata": {},
   "outputs": [
    {
     "data": {
      "text/plain": [
       "array([1, 1])"
      ]
     },
     "execution_count": 40,
     "metadata": {},
     "output_type": "execute_result"
    }
   ],
   "source": [
    "np.argmin(X,axis=1)"
   ]
  },
  {
   "cell_type": "code",
   "execution_count": 45,
   "metadata": {},
   "outputs": [],
   "source": [
    "X=np.array([[1,2,3],[4,5,6]])\n",
    "Y=np.array([[1,2,4],[4,5,6]])\n"
   ]
  },
  {
   "cell_type": "code",
   "execution_count": 47,
   "metadata": {},
   "outputs": [
    {
     "data": {
      "text/plain": [
       "False"
      ]
     },
     "execution_count": 47,
     "metadata": {},
     "output_type": "execute_result"
    }
   ],
   "source": [
    "np.all(X==Y)"
   ]
  },
  {
   "cell_type": "code",
   "execution_count": null,
   "metadata": {},
   "outputs": [],
   "source": []
  }
 ],
 "metadata": {
  "kernelspec": {
   "display_name": "Python 3",
   "language": "python",
   "name": "python3"
  },
  "language_info": {
   "codemirror_mode": {
    "name": "ipython",
    "version": 3
   },
   "file_extension": ".py",
   "mimetype": "text/x-python",
   "name": "python",
   "nbconvert_exporter": "python",
   "pygments_lexer": "ipython3",
   "version": "3.7.4"
  }
 },
 "nbformat": 4,
 "nbformat_minor": 2
}
